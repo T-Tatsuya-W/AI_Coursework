{
 "cells": [
  {
   "cell_type": "markdown",
   "id": "6c1d26fc",
   "metadata": {
    "tags": []
   },
   "source": [
    "# AI coursework\n",
    "\n",
    "\n",
    "using the mush.csv dataset.\n",
    "we will do binary classification with the three algorithms\n",
    "\n",
    "- tree decision thing\n",
    "- logistic regression\n",
    "- k nearest thing\n",
    "\n",
    "\n",
    "## Used Libraries"
   ]
  },
  {
   "cell_type": "code",
   "execution_count": 186,
   "id": "42432c28",
   "metadata": {},
   "outputs": [],
   "source": [
    "import numpy as np\n",
    "import matplotlib as mpl\n",
    "import pandas as pd\n",
    "import scipy as sc\n",
    "import seaborn as sns\n",
    "import sklearn\n",
    "import matplotlib.pyplot as plt\n",
    "\n",
    "from sklearn.model_selection import train_test_split\n",
    "from sklearn import datasets\n",
    "from sklearn import svm\n",
    "\n",
    "from sklearn.linear_model import LogisticRegression \n",
    "from sklearn.metrics import accuracy_score, classification_report\n",
    "from sklearn.metrics import confusion_matrix, precision_score, recall_score, auc,roc_curve\n",
    "\n",
    "from sklearn.model_selection import cross_val_score\n",
    "from sklearn.model_selection import cross_val_predict\n",
    "\n",
    "\n",
    "from sklearn.svm import SVC\n",
    "\n",
    "import scipy.stats\n",
    "from sklearn.model_selection import GridSearchCV\n",
    "from sklearn.model_selection import RandomizedSearchCV\n",
    "from sklearn.metrics import f1_score\n"
   ]
  },
  {
   "cell_type": "code",
   "execution_count": 187,
   "id": "96959084",
   "metadata": {
    "scrolled": true
   },
   "outputs": [
    {
     "name": "stdout",
     "output_type": "stream",
     "text": [
      "data set :  (8416, 23)\n"
     ]
    }
   ],
   "source": [
    "dataset = pd.read_csv('./mush.csv')\n",
    "print(\"data set : \", dataset.shape)"
   ]
  },
  {
   "cell_type": "code",
   "execution_count": 188,
   "id": "f422b9bd",
   "metadata": {},
   "outputs": [],
   "source": [
    "#Code for confusion matrix generation.\n",
    "def eval_confusion(model, X_test, y_test, y_pred):\n",
    "    from sklearn.metrics import confusion_matrix\n",
    "    import matplotlib.pyplot as plt\n",
    "    from sklearn.metrics import plot_confusion_matrix\n",
    "\n",
    "    conf_matrix = confusion_matrix(y_test, y_pred)\n",
    "    matrix = plot_confusion_matrix(model, X_test, y_test, cmap = plt.cm.Purples)\n",
    "    matrix.ax_.set_title('Confusion Matrix', color=\"white\")\n",
    "    plt.xlabel('Predicted Label', color=\"white\")\n",
    "    plt.ylabel('True Label', color=\"white\")\n",
    "    plt.gcf().axes[0].tick_params(colors=\"white\")\n",
    "    plt.gcf().axes[1].tick_params(colors=\"white\")\n",
    "    plt.show()"
   ]
  },
  {
   "cell_type": "markdown",
   "id": "0bd269c5",
   "metadata": {},
   "source": [
    "Now that we have imported the (extended) dataset into the Pandas Dataframe `dataset` we can do some EDA\n",
    "# Exploratory Data Analysis "
   ]
  },
  {
   "cell_type": "code",
   "execution_count": 189,
   "id": "d66d4485-8841-4e17-854f-13bb57ad5f6c",
   "metadata": {},
   "outputs": [
    {
     "name": "stdout",
     "output_type": "stream",
     "text": [
      "edible count: 4488(53.326996197718636%)\n",
      "poison count: 3928(46.67300380228137%)\n"
     ]
    }
   ],
   "source": [
    "edible = dataset[dataset['edibility']=='EDIBLE'].shape[0]\n",
    "poison = dataset[dataset['edibility']=='POISONOUS'].shape[0]\n",
    "print(\"edible count: \"+str(edible) + \"(\" + str(edible/dataset.shape[0] * 100) + \"%)\")\n",
    "print(\"poison count: \"+str(poison) + \"(\" + str(poison/dataset.shape[0] * 100) + \"%)\")"
   ]
  },
  {
   "cell_type": "markdown",
   "id": "990af05c-0707-4184-bda1-a2efd9541f0d",
   "metadata": {
    "tags": []
   },
   "source": [
    "## Frequency Counts for each attribute"
   ]
  },
  {
   "cell_type": "code",
   "execution_count": 190,
   "id": "8fdc7003",
   "metadata": {
    "scrolled": true,
    "tags": []
   },
   "outputs": [
    {
     "data": {
      "text/plain": [
       "'\\nfor col in columns:\\n    #series = dataset[col].value_counts()\\n    #print(series)\\n    #print(\"null values = \" + str(dataset[col].isnull().sum()))\\n    #print(\"\\n\")\\n    \\n    sns.set_theme()\\n    plot = sns.countplot(x=dataset[col], order=dataset[col].value_counts(ascending=False).index, palette = \"PuBuGn_d\");\\n    \\n    \\n    abs_values = dataset[col].value_counts(ascending=False)\\n    lbls = [f\\'{p[0]}\\' for p in zip(abs_values)]\\n    plot.bar_label(container=plot.containers[0], labels=lbls)\\n    \\n    plot.set_xticklabels(plot.get_xticklabels(), rotation=40)\\n\\n    plt.show()\\n    if col == \"bruises?\":\\n        col = \"bruises\"\\n    \\n    # To save new copies of the attribute Bar charts\\n    # plot.figure.savefig(\"Graphs/FrequencyBar/\"+col+\".png\", bbox_inches=\\'tight\\')\\n'"
      ]
     },
     "execution_count": 190,
     "metadata": {},
     "output_type": "execute_result"
    }
   ],
   "source": [
    "columns = dataset.columns\n",
    "\"\"\"\n",
    "for col in columns:\n",
    "    #series = dataset[col].value_counts()\n",
    "    #print(series)\n",
    "    #print(\"null values = \" + str(dataset[col].isnull().sum()))\n",
    "    #print(\"\\n\")\n",
    "    \n",
    "    sns.set_theme()\n",
    "    plot = sns.countplot(x=dataset[col], order=dataset[col].value_counts(ascending=False).index, palette = \"PuBuGn_d\");\n",
    "    \n",
    "    \n",
    "    abs_values = dataset[col].value_counts(ascending=False)\n",
    "    lbls = [f'{p[0]}' for p in zip(abs_values)]\n",
    "    plot.bar_label(container=plot.containers[0], labels=lbls)\n",
    "    \n",
    "    plot.set_xticklabels(plot.get_xticklabels(), rotation=40)\n",
    "\n",
    "    plt.show()\n",
    "    if col == \"bruises?\":\n",
    "        col = \"bruises\"\n",
    "    \n",
    "    # To save new copies of the attribute Bar charts\n",
    "    # plot.figure.savefig(\"Graphs/FrequencyBar/\"+col+\".png\", bbox_inches='tight')\n",
    "\"\"\"  \n",
    "    "
   ]
  },
  {
   "cell_type": "markdown",
   "id": "7cf5e6aa-6fe5-4c18-bc49-fcf8e8415e50",
   "metadata": {},
   "source": [
    "## Redundant attribute\n",
    "If we go through, we can see that attribute #16 'veil-type' is a useless attribute since all $8416$ rows have the same value. So, we can remove this column since it will do nothing but take up time. Now, we are down to 22 columns (including the `edibility` column)"
   ]
  },
  {
   "cell_type": "code",
   "execution_count": 191,
   "id": "15f5ed24-fac5-4f25-87cc-179c83ee84a9",
   "metadata": {},
   "outputs": [],
   "source": [
    "dataset = dataset.drop(['veil-type'], axis = 1)"
   ]
  },
  {
   "cell_type": "markdown",
   "id": "b8f9d66a-b8a2-4557-9274-62c3b5117a9c",
   "metadata": {},
   "source": [
    "## Missing data\n",
    "Here we have printed out the the sums of all the values in each column, as well as a count of the number of null values in each. \n",
    "Since the null values in attribute $#11$ are represented by the string `'?'`, they are not registered as a null value by pandas."
   ]
  },
  {
   "cell_type": "code",
   "execution_count": 192,
   "id": "1cf85bb2-fb7d-4ab9-95f1-dabab1db0cf9",
   "metadata": {},
   "outputs": [
    {
     "data": {
      "text/plain": [
       "edibility                      0\n",
       "cap-shape                      0\n",
       "cap-surface                    0\n",
       "cap-color                      0\n",
       "bruises?                       0\n",
       "odor                           0\n",
       "gill-attachment                0\n",
       "gill-spacing                   0\n",
       "gill-size                      0\n",
       "gill-color                     0\n",
       "stalk-shape                    0\n",
       "stalk-root                  2480\n",
       "stalk-surface-above-ring       0\n",
       "stalk-surface-below-ring       0\n",
       "stalk-color-above-ring         0\n",
       "stalk-color-below-ring         0\n",
       "veil-color                     0\n",
       "ring-number                    0\n",
       "ring-type                      0\n",
       "spore-print-color              0\n",
       "population                     0\n",
       "habitat                        0\n",
       "dtype: int64"
      ]
     },
     "execution_count": 192,
     "metadata": {},
     "output_type": "execute_result"
    }
   ],
   "source": [
    "dataset = dataset.replace(\"?\", np.NaN)\n",
    "dataset.isnull().sum()"
   ]
  },
  {
   "cell_type": "markdown",
   "id": "0249c64c-39b2-4271-9a83-1922b9ed59f2",
   "metadata": {},
   "source": [
    "Now that the missing values have been correctly replaced with the Pandas `NaN` indicator, we can deal with thees datapoints how we see fit.\n",
    "\n",
    "\n",
    "Two options would be to either delete the column with the missing data (`stalk-root` attribute $#11$) or delete the rows with the missing data\n",
    "\n",
    "By deleting the Column with the missing data, we will still have $8416$ entries, and only $21$ columns to work with (including edibility)\n",
    "\n",
    "On the other hand, by deleting the Rows with the missing values, we will keep $22$ columns but will go down to $5936$ columns"
   ]
  },
  {
   "cell_type": "code",
   "execution_count": 193,
   "id": "3d7a5632-ca05-4edc-8863-97ca1a577291",
   "metadata": {},
   "outputs": [
    {
     "data": {
      "text/plain": [
       "(8416, 21)"
      ]
     },
     "execution_count": 193,
     "metadata": {},
     "output_type": "execute_result"
    }
   ],
   "source": [
    "# To delete rows with missing data\n",
    "# dataset.dropna(axis=0)\n",
    "\n",
    "# To delete attribute #11\n",
    "dataset = dataset.dropna(axis=1)\n",
    "dataset.shape\n"
   ]
  },
  {
   "cell_type": "markdown",
   "id": "cd59db50-e105-4a1c-8781-882de501bcb5",
   "metadata": {},
   "source": [
    "Now, we can do some more EDA, here we are going to create cross tabluations of each attribute with the output.\n",
    "\n",
    "## Cross Tabulations and $\\chi ^2$ tests\n",
    "\n",
    "Additionally, we have calculated the $\\chi^2$-test for independence $p$ values for each attribute against the output edibility\n",
    "\n",
    "Reminder that the chi squared test is used for a hypothesis test. In this case, the Hypothesis $H_0$ will be \"attribute 1 and attribute 2 are independent\", when our $p$ values are lower than 0.05, we can be 95% sure that $H_0$ is false."
   ]
  },
  {
   "cell_type": "code",
   "execution_count": 194,
   "id": "278f4d8c-b5d9-4c10-93b0-8a1b70cce27e",
   "metadata": {
    "scrolled": true,
    "tags": []
   },
   "outputs": [
    {
     "name": "stdout",
     "output_type": "stream",
     "text": [
      "                                p value\n",
      "edibility                  0.000000e+00\n",
      "cap-shape                 3.187210e-103\n",
      "cap-surface                5.996665e-76\n",
      "cap-color                  1.168726e-90\n",
      "bruises?                   0.000000e+00\n",
      "odor                       0.000000e+00\n",
      "gill-attachment            5.401073e-26\n",
      "gill-spacing              4.427957e-271\n",
      "gill-size                  0.000000e+00\n",
      "gill-color                 0.000000e+00\n",
      "stalk-shape                3.161053e-29\n",
      "stalk-surface-above-ring   0.000000e+00\n",
      "stalk-surface-below-ring   0.000000e+00\n",
      "stalk-color-above-ring     0.000000e+00\n",
      "stalk-color-below-ring     0.000000e+00\n",
      "veil-color                 6.088534e-39\n",
      "ring-number                2.630475e-79\n",
      "ring-type                  0.000000e+00\n",
      "spore-print-color          0.000000e+00\n",
      "population                 0.000000e+00\n",
      "habitat                    0.000000e+00\n"
     ]
    }
   ],
   "source": [
    "from scipy.stats import chi2_contingency\n",
    "\n",
    "chisquaredvalues = pd.DataFrame(np.zeros((dataset.shape[1], 1)), columns = ['p value'], index = dataset.columns)\n",
    "min = 10\n",
    "max = 0\n",
    "\n",
    "for col1 in dataset.columns:\n",
    "    col2 = 'edibility'\n",
    "    crosstab = pd.crosstab(dataset[col2], dataset[col1])\n",
    "    chi2, p, dof, ex = chi2_contingency(crosstab)\n",
    "    chisquaredvalues.at[col1, 'p value'] =  p\n",
    "\n",
    "    if p>max:\n",
    "        max = p\n",
    "    if p<min:\n",
    "        min = p\n",
    "\n",
    "    \"\"\"\n",
    "    sns.set_theme()\n",
    "    # generate cross tabulations with edibility\n",
    "    heatplot = sns.heatmap(crosstab, annot = True, fmt = \"d\")\n",
    "    heatplot.set_xticklabels(heatplot.get_xticklabels(), rotation=45)\n",
    "    heatplot.set_yticklabels(heatplot.get_yticklabels(), rotation=45)\n",
    "    plt.show()\n",
    "\n",
    "    # To save new copies of the crosstab heatmap\n",
    "    if col1 == \"bruises?\":\n",
    "        label = \"bruises\"\n",
    "    else:\n",
    "        label = col1\n",
    "    heatplot.figure.savefig(\"Graphs/CrossTabulations/\"+label+\"x\"+col2+\".png\", bbox_inches='tight')\n",
    " \"\"\"   \n",
    "    \n",
    "print(chisquaredvalues)\n"
   ]
  },
  {
   "cell_type": "markdown",
   "id": "485cb9f7-7263-4fd0-953f-baeda1e3b1b8",
   "metadata": {},
   "source": [
    "since the $p$ values for every attribute remaining is less than less than $0.05$, with the highest value being $5.4e-26$, we can see that there is enough sufficient evidence to reject $H_0$, so, all of these attributes must be dependent on the edibility, and, more importantly, the edibility is dependent on each of these attributes, meaning using them to train our mahine learning algorithms should work well.\n",
    "\n",
    "## Removing Duplicates\n",
    "We can remove some duplicate rows."
   ]
  },
  {
   "cell_type": "code",
   "execution_count": 195,
   "id": "c9a11eb8-4e16-4d8a-ac26-da31a6a8b855",
   "metadata": {},
   "outputs": [
    {
     "name": "stdout",
     "output_type": "stream",
     "text": [
      "(8416, 21)\n",
      "(8124, 21)\n"
     ]
    }
   ],
   "source": [
    "print(dataset.shape)\n",
    "dataset = dataset.drop_duplicates()\n",
    "print(dataset.shape)"
   ]
  },
  {
   "cell_type": "markdown",
   "id": "6e7cfbb8-5a5a-4985-adc6-b87c35fe1b7f",
   "metadata": {},
   "source": [
    "Now that we have fixed up our dataset, we must now do some Data Transformation\n",
    "# Data Transformation\n",
    "all of our $22$ attributes can be divided into 3 categories; Ordinal, Nominal and Binary Nominal attributes\n",
    "\n",
    "Binary Nominal Attributes with only two values only require one binary flag (0,1) to represent it's data.\n",
    "- №0 'edibility': {'EDIBLE':1,'POISONOUS':0}\n",
    "- №4 'bruises?' : {'BRUISES':1,'NO':0}\n",
    "- №6 'gill-attachment' : {'FREE':0,'ATTACHED':1}\n",
    "- №8 'gill-size' : {'BROAD':0,'NARROW':1}\n",
    "- №10 'stalk-shape' : {'ENLARGING':0,'TAPERING':1}\n",
    "\n",
    "\n",
    "Ordinal attributes can be use a mapping dictionary to map each category to an integer.\n",
    "- №7 'gill-spacing' : {'CLOSE':0,'CROWDED':1,'DISTANT':2}\n",
    "- №18 'ring-number' : {'NONE':0,'ONE':1,'TWO':2}\n",
    "- №21 'population' : {'ABUNDANT':6,'CLUSTERED':5,'NUMEROUS':4,'SCATTERED':3,'SEVERAL':2,'SOLITARY':1}\n",
    "\n",
    "And the rest are Nominal chategorical attributes so will likely have to be one-hot encoded\n",
    "\n",
    "\n"
   ]
  },
  {
   "cell_type": "code",
   "execution_count": 196,
   "id": "92f116ea-ad62-4f71-82c1-1760d8ddd44e",
   "metadata": {},
   "outputs": [],
   "source": [
    "# Binary Nominal Attributes\n",
    "edibility_map_dict = {\"EDIBLE\":1,\"POISONOUS\":0}\n",
    "bruises_map_dict = {\"BRUISES\":1,\"NO\":0}\n",
    "gill_attachment_map_dict = {\"FREE\":0,\"ATTACHED\":1}\n",
    "gill_size_map_dict = {'BROAD':0,'NARROW':1}\n",
    "stalk_shape_map_dict = {'ENLARGING':0,'TAPERING':1}\n",
    "# Ordinal Attributes\n",
    "gill_spacing_map_dict = {'CLOSE':0,'CROWDED':1,'DISTANT':2}\n",
    "ring_number_map_dict = {'NONE':0,'ONE':1,'TWO':2}\n",
    "population_map_dict = {'ABUNDANT':6,'CLUSTERED':5,'NUMEROUS':4,'SCATTERED':3,'SEVERAL':2,'SOLITARY':1}\n",
    "\n",
    "mapping_dicts = [edibility_map_dict, bruises_map_dict, gill_attachment_map_dict, gill_size_map_dict, stalk_shape_map_dict, gill_spacing_map_dict, ring_number_map_dict, population_map_dict]\n",
    "mapping_columns = ['edibility','bruises?','gill-attachment','gill-size','stalk-shape','gill-spacing','ring-number','population']\n",
    "\n",
    "for i in range(len(mapping_columns)):\n",
    "    dataset[mapping_columns[i]] = dataset[mapping_columns[i]].map(mapping_dicts[i])\n",
    "    \n",
    "onehot_columns = ['cap-shape','cap-surface','cap-color','odor','gill-color','stalk-surface-above-ring','stalk-surface-below-ring','stalk-color-above-ring','stalk-color-below-ring','veil-color','ring-type','spore-print-color','habitat']\n",
    "cleanDataset = pd.get_dummies(dataset, columns=onehot_columns)"
   ]
  },
  {
   "cell_type": "markdown",
   "id": "7dcf9841-2b9e-4db3-9ba3-68f757ed7cba",
   "metadata": {},
   "source": [
    "Now, the dataset is cleaned, and stored in the new Pandas DF `cleanDataset`"
   ]
  },
  {
   "cell_type": "code",
   "execution_count": 197,
   "id": "668ae935-994b-4e1f-aaac-148e1c532dc3",
   "metadata": {},
   "outputs": [
    {
     "data": {
      "text/plain": [
       "(8124, 100)"
      ]
     },
     "execution_count": 197,
     "metadata": {},
     "output_type": "execute_result"
    }
   ],
   "source": [
    "cleanDataset.shape"
   ]
  },
  {
   "cell_type": "code",
   "execution_count": 198,
   "id": "f001aa41-6377-404c-bf03-e2441a3c523f",
   "metadata": {},
   "outputs": [],
   "source": [
    "# cleanDataset.info()"
   ]
  },
  {
   "cell_type": "code",
   "execution_count": 199,
   "id": "6f5caa03-abcf-4e89-a13b-eccbea61d0bc",
   "metadata": {},
   "outputs": [
    {
     "data": {
      "text/html": [
       "<div>\n",
       "<style scoped>\n",
       "    .dataframe tbody tr th:only-of-type {\n",
       "        vertical-align: middle;\n",
       "    }\n",
       "\n",
       "    .dataframe tbody tr th {\n",
       "        vertical-align: top;\n",
       "    }\n",
       "\n",
       "    .dataframe thead th {\n",
       "        text-align: right;\n",
       "    }\n",
       "</style>\n",
       "<table border=\"1\" class=\"dataframe\">\n",
       "  <thead>\n",
       "    <tr style=\"text-align: right;\">\n",
       "      <th></th>\n",
       "      <th>edibility</th>\n",
       "      <th>bruises?</th>\n",
       "      <th>gill-attachment</th>\n",
       "      <th>gill-spacing</th>\n",
       "      <th>gill-size</th>\n",
       "      <th>stalk-shape</th>\n",
       "      <th>ring-number</th>\n",
       "      <th>population</th>\n",
       "      <th>cap-shape_BELL</th>\n",
       "      <th>cap-shape_CONICAL</th>\n",
       "      <th>...</th>\n",
       "      <th>spore-print-color_PURPLE</th>\n",
       "      <th>spore-print-color_WHITE</th>\n",
       "      <th>spore-print-color_YELLOW</th>\n",
       "      <th>habitat_GRASSES</th>\n",
       "      <th>habitat_LEAVES</th>\n",
       "      <th>habitat_MEADOWS</th>\n",
       "      <th>habitat_PATHS</th>\n",
       "      <th>habitat_URBAN</th>\n",
       "      <th>habitat_WASTE</th>\n",
       "      <th>habitat_WOODS</th>\n",
       "    </tr>\n",
       "  </thead>\n",
       "  <tbody>\n",
       "    <tr>\n",
       "      <th>count</th>\n",
       "      <td>8124.000000</td>\n",
       "      <td>8124.000000</td>\n",
       "      <td>8124.000000</td>\n",
       "      <td>8124.000000</td>\n",
       "      <td>8124.000000</td>\n",
       "      <td>8124.000000</td>\n",
       "      <td>8124.000000</td>\n",
       "      <td>8124.000000</td>\n",
       "      <td>8124.000000</td>\n",
       "      <td>8124.000000</td>\n",
       "      <td>...</td>\n",
       "      <td>8124.000000</td>\n",
       "      <td>8124.000000</td>\n",
       "      <td>8124.000000</td>\n",
       "      <td>8124.000000</td>\n",
       "      <td>8124.000000</td>\n",
       "      <td>8124.000000</td>\n",
       "      <td>8124.000000</td>\n",
       "      <td>8124.000000</td>\n",
       "      <td>8124.000000</td>\n",
       "      <td>8124.000000</td>\n",
       "    </tr>\n",
       "    <tr>\n",
       "      <th>mean</th>\n",
       "      <td>0.517971</td>\n",
       "      <td>0.415559</td>\n",
       "      <td>0.025849</td>\n",
       "      <td>0.161497</td>\n",
       "      <td>0.309207</td>\n",
       "      <td>0.567208</td>\n",
       "      <td>1.069424</td>\n",
       "      <td>2.355982</td>\n",
       "      <td>0.055638</td>\n",
       "      <td>0.000492</td>\n",
       "      <td>...</td>\n",
       "      <td>0.005908</td>\n",
       "      <td>0.293944</td>\n",
       "      <td>0.005908</td>\n",
       "      <td>0.264402</td>\n",
       "      <td>0.102413</td>\n",
       "      <td>0.035943</td>\n",
       "      <td>0.140817</td>\n",
       "      <td>0.045298</td>\n",
       "      <td>0.023634</td>\n",
       "      <td>0.387494</td>\n",
       "    </tr>\n",
       "    <tr>\n",
       "      <th>std</th>\n",
       "      <td>0.499708</td>\n",
       "      <td>0.492848</td>\n",
       "      <td>0.158695</td>\n",
       "      <td>0.368011</td>\n",
       "      <td>0.462195</td>\n",
       "      <td>0.495493</td>\n",
       "      <td>0.271064</td>\n",
       "      <td>1.252082</td>\n",
       "      <td>0.229235</td>\n",
       "      <td>0.022185</td>\n",
       "      <td>...</td>\n",
       "      <td>0.076644</td>\n",
       "      <td>0.455595</td>\n",
       "      <td>0.076644</td>\n",
       "      <td>0.441041</td>\n",
       "      <td>0.303209</td>\n",
       "      <td>0.186159</td>\n",
       "      <td>0.347854</td>\n",
       "      <td>0.207969</td>\n",
       "      <td>0.151914</td>\n",
       "      <td>0.487208</td>\n",
       "    </tr>\n",
       "    <tr>\n",
       "      <th>min</th>\n",
       "      <td>0.000000</td>\n",
       "      <td>0.000000</td>\n",
       "      <td>0.000000</td>\n",
       "      <td>0.000000</td>\n",
       "      <td>0.000000</td>\n",
       "      <td>0.000000</td>\n",
       "      <td>0.000000</td>\n",
       "      <td>1.000000</td>\n",
       "      <td>0.000000</td>\n",
       "      <td>0.000000</td>\n",
       "      <td>...</td>\n",
       "      <td>0.000000</td>\n",
       "      <td>0.000000</td>\n",
       "      <td>0.000000</td>\n",
       "      <td>0.000000</td>\n",
       "      <td>0.000000</td>\n",
       "      <td>0.000000</td>\n",
       "      <td>0.000000</td>\n",
       "      <td>0.000000</td>\n",
       "      <td>0.000000</td>\n",
       "      <td>0.000000</td>\n",
       "    </tr>\n",
       "    <tr>\n",
       "      <th>25%</th>\n",
       "      <td>0.000000</td>\n",
       "      <td>0.000000</td>\n",
       "      <td>0.000000</td>\n",
       "      <td>0.000000</td>\n",
       "      <td>0.000000</td>\n",
       "      <td>0.000000</td>\n",
       "      <td>1.000000</td>\n",
       "      <td>2.000000</td>\n",
       "      <td>0.000000</td>\n",
       "      <td>0.000000</td>\n",
       "      <td>...</td>\n",
       "      <td>0.000000</td>\n",
       "      <td>0.000000</td>\n",
       "      <td>0.000000</td>\n",
       "      <td>0.000000</td>\n",
       "      <td>0.000000</td>\n",
       "      <td>0.000000</td>\n",
       "      <td>0.000000</td>\n",
       "      <td>0.000000</td>\n",
       "      <td>0.000000</td>\n",
       "      <td>0.000000</td>\n",
       "    </tr>\n",
       "    <tr>\n",
       "      <th>50%</th>\n",
       "      <td>1.000000</td>\n",
       "      <td>0.000000</td>\n",
       "      <td>0.000000</td>\n",
       "      <td>0.000000</td>\n",
       "      <td>0.000000</td>\n",
       "      <td>1.000000</td>\n",
       "      <td>1.000000</td>\n",
       "      <td>2.000000</td>\n",
       "      <td>0.000000</td>\n",
       "      <td>0.000000</td>\n",
       "      <td>...</td>\n",
       "      <td>0.000000</td>\n",
       "      <td>0.000000</td>\n",
       "      <td>0.000000</td>\n",
       "      <td>0.000000</td>\n",
       "      <td>0.000000</td>\n",
       "      <td>0.000000</td>\n",
       "      <td>0.000000</td>\n",
       "      <td>0.000000</td>\n",
       "      <td>0.000000</td>\n",
       "      <td>0.000000</td>\n",
       "    </tr>\n",
       "    <tr>\n",
       "      <th>75%</th>\n",
       "      <td>1.000000</td>\n",
       "      <td>1.000000</td>\n",
       "      <td>0.000000</td>\n",
       "      <td>0.000000</td>\n",
       "      <td>1.000000</td>\n",
       "      <td>1.000000</td>\n",
       "      <td>1.000000</td>\n",
       "      <td>3.000000</td>\n",
       "      <td>0.000000</td>\n",
       "      <td>0.000000</td>\n",
       "      <td>...</td>\n",
       "      <td>0.000000</td>\n",
       "      <td>1.000000</td>\n",
       "      <td>0.000000</td>\n",
       "      <td>1.000000</td>\n",
       "      <td>0.000000</td>\n",
       "      <td>0.000000</td>\n",
       "      <td>0.000000</td>\n",
       "      <td>0.000000</td>\n",
       "      <td>0.000000</td>\n",
       "      <td>1.000000</td>\n",
       "    </tr>\n",
       "    <tr>\n",
       "      <th>max</th>\n",
       "      <td>1.000000</td>\n",
       "      <td>1.000000</td>\n",
       "      <td>1.000000</td>\n",
       "      <td>1.000000</td>\n",
       "      <td>1.000000</td>\n",
       "      <td>1.000000</td>\n",
       "      <td>2.000000</td>\n",
       "      <td>6.000000</td>\n",
       "      <td>1.000000</td>\n",
       "      <td>1.000000</td>\n",
       "      <td>...</td>\n",
       "      <td>1.000000</td>\n",
       "      <td>1.000000</td>\n",
       "      <td>1.000000</td>\n",
       "      <td>1.000000</td>\n",
       "      <td>1.000000</td>\n",
       "      <td>1.000000</td>\n",
       "      <td>1.000000</td>\n",
       "      <td>1.000000</td>\n",
       "      <td>1.000000</td>\n",
       "      <td>1.000000</td>\n",
       "    </tr>\n",
       "  </tbody>\n",
       "</table>\n",
       "<p>8 rows × 100 columns</p>\n",
       "</div>"
      ],
      "text/plain": [
       "         edibility     bruises?  gill-attachment  gill-spacing    gill-size  \\\n",
       "count  8124.000000  8124.000000      8124.000000   8124.000000  8124.000000   \n",
       "mean      0.517971     0.415559         0.025849      0.161497     0.309207   \n",
       "std       0.499708     0.492848         0.158695      0.368011     0.462195   \n",
       "min       0.000000     0.000000         0.000000      0.000000     0.000000   \n",
       "25%       0.000000     0.000000         0.000000      0.000000     0.000000   \n",
       "50%       1.000000     0.000000         0.000000      0.000000     0.000000   \n",
       "75%       1.000000     1.000000         0.000000      0.000000     1.000000   \n",
       "max       1.000000     1.000000         1.000000      1.000000     1.000000   \n",
       "\n",
       "       stalk-shape  ring-number   population  cap-shape_BELL  \\\n",
       "count  8124.000000  8124.000000  8124.000000     8124.000000   \n",
       "mean      0.567208     1.069424     2.355982        0.055638   \n",
       "std       0.495493     0.271064     1.252082        0.229235   \n",
       "min       0.000000     0.000000     1.000000        0.000000   \n",
       "25%       0.000000     1.000000     2.000000        0.000000   \n",
       "50%       1.000000     1.000000     2.000000        0.000000   \n",
       "75%       1.000000     1.000000     3.000000        0.000000   \n",
       "max       1.000000     2.000000     6.000000        1.000000   \n",
       "\n",
       "       cap-shape_CONICAL  ...  spore-print-color_PURPLE  \\\n",
       "count        8124.000000  ...               8124.000000   \n",
       "mean            0.000492  ...                  0.005908   \n",
       "std             0.022185  ...                  0.076644   \n",
       "min             0.000000  ...                  0.000000   \n",
       "25%             0.000000  ...                  0.000000   \n",
       "50%             0.000000  ...                  0.000000   \n",
       "75%             0.000000  ...                  0.000000   \n",
       "max             1.000000  ...                  1.000000   \n",
       "\n",
       "       spore-print-color_WHITE  spore-print-color_YELLOW  habitat_GRASSES  \\\n",
       "count              8124.000000               8124.000000      8124.000000   \n",
       "mean                  0.293944                  0.005908         0.264402   \n",
       "std                   0.455595                  0.076644         0.441041   \n",
       "min                   0.000000                  0.000000         0.000000   \n",
       "25%                   0.000000                  0.000000         0.000000   \n",
       "50%                   0.000000                  0.000000         0.000000   \n",
       "75%                   1.000000                  0.000000         1.000000   \n",
       "max                   1.000000                  1.000000         1.000000   \n",
       "\n",
       "       habitat_LEAVES  habitat_MEADOWS  habitat_PATHS  habitat_URBAN  \\\n",
       "count     8124.000000      8124.000000    8124.000000    8124.000000   \n",
       "mean         0.102413         0.035943       0.140817       0.045298   \n",
       "std          0.303209         0.186159       0.347854       0.207969   \n",
       "min          0.000000         0.000000       0.000000       0.000000   \n",
       "25%          0.000000         0.000000       0.000000       0.000000   \n",
       "50%          0.000000         0.000000       0.000000       0.000000   \n",
       "75%          0.000000         0.000000       0.000000       0.000000   \n",
       "max          1.000000         1.000000       1.000000       1.000000   \n",
       "\n",
       "       habitat_WASTE  habitat_WOODS  \n",
       "count    8124.000000    8124.000000  \n",
       "mean        0.023634       0.387494  \n",
       "std         0.151914       0.487208  \n",
       "min         0.000000       0.000000  \n",
       "25%         0.000000       0.000000  \n",
       "50%         0.000000       0.000000  \n",
       "75%         0.000000       1.000000  \n",
       "max         1.000000       1.000000  \n",
       "\n",
       "[8 rows x 100 columns]"
      ]
     },
     "execution_count": 199,
     "metadata": {},
     "output_type": "execute_result"
    }
   ],
   "source": [
    "cleanDataset.describe()"
   ]
  },
  {
   "cell_type": "markdown",
   "id": "d15819a9-7782-4680-b420-a7b71bdda35f",
   "metadata": {},
   "source": [
    "Now that all our data is clean, encoded and ready to go, lets get started by splitting the data up into all the relevant groups.\n",
    "\n",
    "# Data Splitting\n",
    "\n",
    "If we assume we will be using a simple data splitting method, we simply need to have both the $X$ and $y$ for training aand testing"
   ]
  },
  {
   "cell_type": "code",
   "execution_count": 200,
   "id": "77db9467-f02f-4b77-bc81-885db68bb421",
   "metadata": {},
   "outputs": [
    {
     "name": "stdout",
     "output_type": "stream",
     "text": [
      "y: (8124,)\n",
      "X: (8124, 99)\n"
     ]
    }
   ],
   "source": [
    "y = cleanDataset['edibility'].values\n",
    "big_X = cleanDataset.iloc[:, 1:].values\n",
    "\n",
    "print(\"y: \"+str(y.shape) + \"\\nX: \"+str(big_X.shape))"
   ]
  },
  {
   "cell_type": "markdown",
   "id": "de8aa0e7-28a7-46ee-aac6-532e8c172674",
   "metadata": {},
   "source": [
    "## Dimensionality Reduction\n",
    "Do this after you have separated X from y. then we can reduce the number of dimensions "
   ]
  },
  {
   "cell_type": "code",
   "execution_count": 201,
   "id": "be5ef8ba-c9b5-4e17-a0d6-45a333332fd5",
   "metadata": {},
   "outputs": [
    {
     "data": {
      "image/png": "[encoded data removed]",
      "text/plain": [
       "<Figure size 432x288 with 1 Axes>"
      ]
     },
     "metadata": {
      "needs_background": "light"
     },
     "output_type": "display_data"
    }
   ],
   "source": [
    "from sklearn.decomposition import PCA\n",
    "\n",
    "pca = PCA(n_components=99)\n",
    "temp_X = pca.fit_transform(big_X)\n",
    "\n",
    "variances = pca.explained_variance_ratio_\n",
    "# print(variances)\n",
    "\n",
    "variance_plot = sns.lineplot(data = variances, markers = True)\n",
    "plt.show()"
   ]
  },
  {
   "cell_type": "code",
   "execution_count": 202,
   "id": "3598b4b7-b9c9-496e-8c2f-9036b063b4ba",
   "metadata": {},
   "outputs": [
    {
     "data": {
      "text/plain": [
       "(8124, 10)"
      ]
     },
     "execution_count": 202,
     "metadata": {},
     "output_type": "execute_result"
    }
   ],
   "source": [
    "pca = PCA(n_components=10, random_state=1)\n",
    "X = pca.fit_transform(big_X)\n",
    "X.shape"
   ]
  },
  {
   "cell_type": "markdown",
   "id": "2a21ce06-cb68-41a5-9d64-109cb693b471",
   "metadata": {},
   "source": [
    "Now we have the columns in their correct places and the dimensions of X reduced, lets shuffle them around, and then split them into the correct Test and Train sets.\n",
    "Note that the ratio of columns assigned to the train set and the test set can be changed by changing the variable `train_ratio` \n",
    "\n",
    "We split the data using a stratified splitter into train and tests. But have also shuffled the entire X,y dataset Dataframes. This is so that they can be used for cross validation.\n",
    "\n",
    "We have the version of the splitter to **stratify** the random splitting. This way the proportions of examples in both classes for y is maintained in both splits "
   ]
  },
  {
   "cell_type": "code",
   "execution_count": 203,
   "id": "fc6e7935-764a-4931-9c23-6b0a55e6406e",
   "metadata": {},
   "outputs": [
    {
     "name": "stdout",
     "output_type": "stream",
     "text": [
      "(5686, 10) (5686,)\n",
      "(2438, 10) (2438,)\n"
     ]
    }
   ],
   "source": [
    "from sklearn.model_selection import train_test_split\n",
    "#test_ratio = 0.2\n",
    "test_ratio = 0.3\n",
    "\n",
    "\n",
    "X_train, X_test, y_train, y_test = train_test_split(X, y, test_size = test_ratio, random_state = 0, stratify = y)\n",
    "\n",
    "indices = np.arange(cleanDataset.shape[0])\n",
    "rng = np.random.RandomState(0)\n",
    "permuted_indices = rng.permutation(indices)\n",
    "X = X[permuted_indices]\n",
    "y = y[permuted_indices]\n",
    "\n",
    "\n",
    "print(X_train.shape, y_train.shape)\n",
    "print(X_test.shape, y_test.shape)"
   ]
  },
  {
   "cell_type": "code",
   "execution_count": 204,
   "id": "7f9d23b2-0f27-4e6b-ae51-be9604fdc8f9",
   "metadata": {},
   "outputs": [
    {
     "name": "stdout",
     "output_type": "stream",
     "text": [
      "{0: 1175, 1: 1263}\n",
      "{0: 2741, 1: 2945}\n"
     ]
    }
   ],
   "source": [
    "def Counts(ArrayToCount):\n",
    "    vals, count = np.unique(ArrayToCount, return_counts=True)\n",
    "    return (dict(zip(vals, count)))\n",
    "\n",
    "print(Counts(y_test))\n",
    "print(Counts(y_train))"
   ]
  },
  {
   "cell_type": "markdown",
   "id": "dd11dfd5-5157-41ee-8931-7ef61fbc2288",
   "metadata": {},
   "source": [
    "## Data is scaled\n"
   ]
  },
  {
   "cell_type": "code",
   "execution_count": 205,
   "id": "2b5d38c1-72d1-4d93-ab47-48f8ad970f96",
   "metadata": {},
   "outputs": [],
   "source": [
    "from sklearn.preprocessing import StandardScaler\n",
    "scaler = StandardScaler()\n",
    "scaler.fit(X)\n",
    "\n",
    "X = scaler.transform(X)\n",
    "X_train = scaler.transform(X_train)\n",
    "X_test = scaler.transform(X_test)"
   ]
  },
  {
   "cell_type": "markdown",
   "id": "3887cbef-87a3-47ca-8e41-5264e7d03e62",
   "metadata": {},
   "source": [
    "Now we have split the data into all the seperate parts. \n",
    "- `X_train`\n",
    "- `X_test`\n",
    "- `y_train`\n",
    "- `y_test`\n",
    "\n",
    "**note** that these can now be used for training and testing, although if any alterations happen during the algorithms themselves, be sure to copy these into a local variable so that in the end we are able to run all of the algorithms with one simple click."
   ]
  },
  {
   "cell_type": "markdown",
   "id": "0a7fea23-d455-4c8d-aabc-58bba5b60ea9",
   "metadata": {},
   "source": [
    "# Logistic Regression\n",
    "\n"
   ]
  },
  {
   "cell_type": "code",
   "execution_count": 206,
   "id": "a19c72fe-5671-4e48-a7b0-242ce7ba930d",
   "metadata": {},
   "outputs": [
    {
     "name": "stdout",
     "output_type": "stream",
     "text": [
      "The Accuracy for Training Set is 92.63102356665495\n",
      "The Accuracy for Test Set is 93.43724364232978\n",
      "The Precision for Test Set is 92.45573518090839\n",
      "              precision    recall  f1-score   support\n",
      "\n",
      "           0       0.95      0.92      0.93      1175\n",
      "           1       0.92      0.95      0.94      1263\n",
      "\n",
      "    accuracy                           0.93      2438\n",
      "   macro avg       0.94      0.93      0.93      2438\n",
      "weighted avg       0.93      0.93      0.93      2438\n",
      "\n",
      "Cross-Validation scores: [0.91389914 0.94095941 0.93234932 0.92865929 0.9273399  0.92487685\n",
      " 0.92857143 0.94704433 0.92364532 0.93349754]\n",
      "Average score: 0.9300842528129716\n"
     ]
    }
   ],
   "source": [
    "LogReg = LogisticRegression(solver='lbfgs', max_iter=1000) \n",
    "LogReg.fit(X_train, y_train)\n",
    "y_pred=LogReg.predict(X_test)\n",
    "train_acc = LogReg.score(X_train, y_train) \n",
    "print(\"The Accuracy for Training Set is {}\".format(train_acc*100)) \n",
    "test_acc = accuracy_score(y_test, y_pred) \n",
    "print(\"The Accuracy for Test Set is {}\".format(test_acc*100)) \n",
    "print(\"The Precision for Test Set is {}\".format(precision_score(y_test, y_pred)*100))\n",
    "print(classification_report(y_test, y_pred))\n",
    "\n",
    "scores = cross_val_score(LogReg, X, y, cv=10)\n",
    "\n",
    "print('Cross-Validation scores: {}'.format(scores))\n",
    "print('Average score: {}'.format(np.mean(scores)))\n"
   ]
  },
  {
   "cell_type": "code",
   "execution_count": 207,
   "id": "fa30d30e",
   "metadata": {},
   "outputs": [
    {
     "name": "stdout",
     "output_type": "stream",
     "text": [
      "{'C': 2.7825594022071245, 'penalty': 'l1', 'solver': 'liblinear'}\n"
     ]
    }
   ],
   "source": [
    "#grid search\n",
    "C = np.logspace(0, 4, num=10)\n",
    "penalty = ['l1', 'l2']\n",
    "solver = ['liblinear', 'saga']\n",
    "hyperparameters = dict(C=C, penalty=penalty, solver=solver)\n",
    "logistic =LogisticRegression()\n",
    "gridsearch = GridSearchCV(logistic, hyperparameters, cv=10)\n",
    "best_model_grid = gridsearch.fit(X_train,y_train)\n",
    "print(best_model_grid.best_params_)"
   ]
  },
  {
   "cell_type": "code",
   "execution_count": 208,
   "id": "edc88e72",
   "metadata": {},
   "outputs": [
    {
     "name": "stdout",
     "output_type": "stream",
     "text": [
      "Cross-Validation scores: [0.91512915 0.94095941 0.93111931 0.9298893  0.92610837 0.92364532\n",
      " 0.92857143 0.94704433 0.92487685 0.93596059]\n",
      "Average score: 0.9303304067523435\n"
     ]
    }
   ],
   "source": [
    "LogReg2=LogisticRegression(C=1,penalty=\"l1\",solver='saga')\n",
    "LogReg2.fit(X_train,y_train)\n",
    "\n",
    "scores = cross_val_score(LogReg2, X, y, cv=10)\n",
    "\n",
    "print('Cross-Validation scores: {}'.format(scores))\n",
    "print('Average score: {}'.format(np.mean(scores)))"
   ]
  },
  {
   "cell_type": "code",
   "execution_count": 209,
   "id": "c2134ae8",
   "metadata": {},
   "outputs": [
    {
     "name": "stdout",
     "output_type": "stream",
     "text": [
      "LogisticRegression(penalty='l1', solver='liblinear')\n"
     ]
    }
   ],
   "source": [
    "#random search\n",
    "C = np.logspace(0, 4, num=10)\n",
    "penalty = ['l1', 'l2']\n",
    "solver = ['liblinear', 'saga']\n",
    "hyperparameters = dict(C=C, penalty=penalty, solver=solver)\n",
    "logistic =LogisticRegression()\n",
    "\n",
    "randomizedsearch = RandomizedSearchCV(logistic, hyperparameters)\n",
    "best_model_random = randomizedsearch.fit(X_train,y_train)\n",
    "print(best_model_random.best_estimator_)"
   ]
  },
  {
   "cell_type": "code",
   "execution_count": 210,
   "id": "9f102f2b",
   "metadata": {},
   "outputs": [
    {
     "name": "stdout",
     "output_type": "stream",
     "text": [
      "Cross-Validation scores: [0.91512915 0.94095941 0.93111931 0.9298893  0.9273399  0.92487685\n",
      " 0.92857143 0.94704433 0.92487685 0.93596059]\n",
      "Average score: 0.9305767121710626\n",
      "              precision    recall  f1-score   support\n",
      "\n",
      "           0       0.94      0.91      0.93      3916\n",
      "           1       0.92      0.95      0.93      4208\n",
      "\n",
      "    accuracy                           0.93      8124\n",
      "   macro avg       0.93      0.93      0.93      8124\n",
      "weighted avg       0.93      0.93      0.93      8124\n",
      "\n"
     ]
    }
   ],
   "source": [
    "LogReg3=LogisticRegression(C=1, penalty='l1', solver='liblinear')\n",
    "\n",
    "# LogReg3.fit(X_train,y_train)\n",
    "\n",
    "scores = cross_val_score(LogReg3, X, y, cv=10)\n",
    "\n",
    "print('Cross-Validation scores: {}'.format(scores))\n",
    "logregBestScore = np.mean(scores)\n",
    "print('Average score: {}'.format(logregBestScore))\n",
    "\n",
    "\n",
    "\n",
    "LogRegPredictions = cross_val_predict(LogReg3, X, y, cv=10)\n",
    "print(classification_report(y, LogRegPredictions))\n",
    "\n"
   ]
  },
  {
   "cell_type": "markdown",
   "id": "a8a6daad-9671-41d3-97e3-e25ad5b1fb66",
   "metadata": {},
   "source": [
    "# K-nearest callable function\n",
    "neighbors default is 5, so this is a reasonable value to pass in\n"
   ]
  },
  {
   "cell_type": "code",
   "execution_count": 211,
   "id": "cd9e7a8a-08f2-4c45-a3b7-c1e2c5b5cde8",
   "metadata": {},
   "outputs": [
    {
     "name": "stdout",
     "output_type": "stream",
     "text": [
      "[0 0 1 ... 1 1 1]\n",
      "The Accuracy for Test Set is 99.71287940935193\n",
      "              precision    recall  f1-score   support\n",
      "\n",
      "           0       1.00      1.00      1.00      1175\n",
      "           1       1.00      1.00      1.00      1263\n",
      "\n",
      "    accuracy                           1.00      2438\n",
      "   macro avg       1.00      1.00      1.00      2438\n",
      "weighted avg       1.00      1.00      1.00      2438\n",
      "\n"
     ]
    }
   ],
   "source": [
    "from sklearn.neighbors import KNeighborsClassifier\n",
    "def knearest(X_train, y_train, X_test, neighbors, distance_metric):\n",
    "    from sklearn.neighbors import KNeighborsClassifier\n",
    "    kNeighbors = KNeighborsClassifier(n_neighbors=neighbors, metric=distance_metric)\n",
    "    kNeighbors.fit(X_train, y_train)\n",
    "\n",
    "    y_pred = kNeighbors.predict(X_test)\n",
    "    return y_pred\n",
    "\n",
    "\n",
    "\n",
    "knearest_pred = knearest(X_train, y_train, X_test, 2, 'euclidean')\n",
    "# {'n_neighbors':{1,2,3,4,5,6,7,8,9,10},'metric':{'euclidean','manhattan','minkowski','chebyshev','wminkowski','seuclidean','mahalanobis'}, 'algorithm':{'ball_tree','kd_tree','brute','auto'}}\n",
    "\n",
    "print (knearest_pred)\n",
    "\n",
    "test_acc_k_nearest = accuracy_score(y_test, knearest_pred) \n",
    "print(\"The Accuracy for Test Set is {}\".format(test_acc_k_nearest*100)) \n",
    "\n",
    "# Generate classification report \n",
    "print(classification_report(y_test, knearest_pred))\n",
    "\n",
    "\n",
    "\n",
    "\n"
   ]
  },
  {
   "cell_type": "markdown",
   "id": "82155ee4-f890-4a76-b05d-75b86185b3a6",
   "metadata": {},
   "source": [
    "I will now attempt to do some hyper parameter tuning to find the best algirhtms and whatnots to perform the algorithm with. then also do a cross validation using these to get a good result indicative of the accuracy of the algorithm."
   ]
  },
  {
   "cell_type": "code",
   "execution_count": 224,
   "id": "d39944a4-97ac-4a25-8bc9-5091ad16f799",
   "metadata": {},
   "outputs": [
    {
     "name": "stdout",
     "output_type": "stream",
     "text": [
      "Fitting 10 folds for each of 40 candidates, totalling 400 fits\n",
      "{'metric': 'manhattan', 'n_neighbors': 1}\n",
      "0.9992967028886854\n",
      "Cross-Validation scores: [1.         0.99753998 1.         1.         1.         1.\n",
      " 1.         1.         1.         1.        ]\n",
      "Average score: 0.9997539975399754\n",
      "              precision    recall  f1-score   support\n",
      "\n",
      "           0       1.00      1.00      1.00      3916\n",
      "           1       1.00      1.00      1.00      4208\n",
      "\n",
      "    accuracy                           1.00      8124\n",
      "   macro avg       1.00      1.00      1.00      8124\n",
      "weighted avg       1.00      1.00      1.00      8124\n",
      "\n"
     ]
    }
   ],
   "source": [
    "knnModel = KNeighborsClassifier()\n",
    "knnHyperParams = {'n_neighbors':(1,2,3,4,5,6,7,8,9,10),'metric':('euclidean','manhattan','minkowski','chebyshev')}\n",
    "grid = GridSearchCV(knnModel, knnHyperParams, cv=10, scoring='accuracy',  return_train_score=False,verbose=1)\n",
    "grid_search = grid.fit(X_train, y_train)\n",
    "print(grid_search.best_params_)\n",
    "print(grid_search.best_score_)\n",
    "\n",
    "\n",
    "\n",
    "bestKnn = KNeighborsClassifier(n_neighbors = grid_search.best_params_['n_neighbors'], metric = grid_search.best_params_['metric'])\n",
    "knnScores = cross_val_score(bestKnn, X, y, cv=10)\n",
    "\n",
    "print('Cross-Validation scores: {}'.format(knnScores))\n",
    "knnBestScore = (np.mean(knnScores))\n",
    "print('Average score: {}'.format(knnBestScore))\n",
    "\n",
    "\n",
    "\n",
    "\n",
    "knnPredictions = cross_val_predict(bestKnn, X, y, cv=10)\n",
    "print(classification_report(y, knnPredictions))\n",
    "\n",
    "#eval_confusion(bestKnn, X, y, knnPredictions)\n"
   ]
  },
  {
   "cell_type": "markdown",
   "id": "08e752b1",
   "metadata": {},
   "source": [
    "#### Masha's section\n"
   ]
  },
  {
   "cell_type": "markdown",
   "id": "e4405cbc",
   "metadata": {},
   "source": [
    "# Decision Tree function"
   ]
  },
  {
   "cell_type": "code",
   "execution_count": 213,
   "id": "b640c970",
   "metadata": {},
   "outputs": [],
   "source": [
    "def decision_tree_func(X_train, y_train, X_test, y_test):\n",
    "    #Libraries used : \n",
    "    from sklearn.tree import DecisionTreeClassifier\n",
    "    ###\n",
    "    from sklearn.metrics import classification_report\n",
    "    from sklearn.pipeline import Pipeline\n",
    "    from sklearn.model_selection import GridSearchCV\n",
    "    \n",
    "\n",
    "    pipeline = Pipeline([\n",
    "        ('clf', DecisionTreeClassifier(criterion = 'entropy'))\n",
    "    ])\n",
    "\n",
    "    #Limiting the depth of the tree to be used to prevent overfitting.\n",
    "    ######With [clf__max_depth': (5, 6)] we aleady get 1.00 for f1 score.\n",
    "    ######f1 starts going below 1.00 at ['clf__max_depth': (4, 5)]. At this setting f-1 is 0.99\n",
    "    parameters = {\n",
    "        'clf__max_depth': (5, 6),\n",
    "        'clf__min_samples_split': (2, 3),\n",
    "        'clf__min_samples_leaf': (1, 2, 3)\n",
    "    }\n",
    "\n",
    "    #Creating the machine learning model with decision trees using GridSearchCV\n",
    "    grid_search_model = GridSearchCV(pipeline, parameters, n_jobs=-1, verbose=1, scoring='f1')\n",
    "    grid_search_model.fit(X_train, y_train)\n",
    "    \n",
    "    print('Best score: %0.3f' % grid_search_model.best_score_)\n",
    "    print('Best parameters set:')\n",
    "    best_parameters = grid_search_model.best_estimator_.get_params()\n",
    "    for param_name in sorted(parameters.keys()):\n",
    "        print('t%s: %r' % (param_name, best_parameters[param_name]))\n",
    "    decision_tree_predictions = grid_search_model.predict(X_test)\n",
    "\n",
    "    #Priting model evaluation based on its f1 score.\n",
    "    print(classification_report(y_test, decision_tree_predictions))\n",
    "    #Returning the model and its prediction. To be used in performance analysis.\n",
    "    return grid_search_model, decision_tree_predictions"
   ]
  },
  {
   "cell_type": "markdown",
   "id": "2f4c1e75",
   "metadata": {},
   "source": [
    "### Setting up X and y with the original dataset.\n",
    "To be used in comparison of machine learning model performance over original data and clean data."
   ]
  },
  {
   "cell_type": "code",
   "execution_count": 214,
   "id": "fa1068bd",
   "metadata": {},
   "outputs": [],
   "source": [
    "import pandas as pd\n",
    "from sklearn.model_selection import train_test_split\n",
    "#(for OneHotEncoding)\n",
    "import numpy as np\n",
    "from sklearn.preprocessing import OneHotEncoder\n",
    "\n",
    "#Creating a dataframe called \"df\" using the data from mushrooms.csv\n",
    "df = pd.read_csv('./mush.csv')\n",
    "\n",
    "#Creating a list of all column_names from the 1st row in the dataset.\n",
    "#Used in OneHotEncoding\n",
    "column_names = \"edibility,cap-shape,cap-surface,cap-color,bruises?,odor,gill-attachment,gill-spacing,gill-size,gill-color,stalk-shape,stalk-root,stalk-surface-above-ring,stalk-surface-below-ring,stalk-color-above-ring,stalk-color-below-ring,veil-type,veil-color,ring-number,ring-type,spore-print-color,population,habitat\"\n",
    "column_names_list = column_names.split(\",\")\n",
    "\n",
    "#Creating a new dataframe X by copying the original dataframe into it.\n",
    "X_orig = df.copy()\n",
    "#Removing the answer column from the input dataframe X.\n",
    "#This is to prevent the model from learning the answers.\n",
    "del X_orig[\"edibility\"]\n",
    "\n",
    "#For future check - to see if OneHotEncoding has worked.\n",
    "#print(\"Old size of X: \", X.shape)\n",
    "\n",
    "#Generating a 2D array called unique_variable_values.\n",
    "#It will contain arrays in such way, that each array with index i has all unique variable values of column i in the dataset (for 0 <= i < number of columns).\n",
    "unique_variable_values = []\n",
    "first = True\n",
    "for col in df:\n",
    "    if first:\n",
    "        first = False\n",
    "        continue\n",
    "    unique_variable_values.append(list(df[col].unique()))    \n",
    "#To check if unique_variable_values array was generated correctly\n",
    "#print(unique_variable_values)\n",
    "\n",
    "#Using OneHotEncoder on X, creating a representation of our mushroom data set (contains nominal data only) that can be used in machine learning.\n",
    "ohe = OneHotEncoder(categories = unique_variable_values)\n",
    "X_new_orig = ohe.fit_transform(X_orig).toarray()\n",
    "#To check if OneHotEncoding has worked.\n",
    "#print(\"New X shape: \", X_new.shape)\n",
    "\n",
    "#Setting up y to contain the answer column. In our case each row will either say \"Edible\" or \"Poisonous\"\n",
    "y_orig = df[\"edibility\"]\n",
    "\n",
    "#Performing a test-train split on y and X.\n",
    "X_train_orig, X_test_orig, y_train_orig, y_test_orig = train_test_split(X_new_orig, y_orig, shuffle=True)\n",
    "#Setting shuffle to True to make sure the data is split randomly.\n",
    "#This prevents unintentional bias "
   ]
  },
  {
   "cell_type": "code",
   "execution_count": 215,
   "id": "66ccc0ed",
   "metadata": {},
   "outputs": [
    {
     "name": "stdout",
     "output_type": "stream",
     "text": [
      "Fitting 5 folds for each of 12 candidates, totalling 60 fits\n"
     ]
    },
    {
     "name": "stderr",
     "output_type": "stream",
     "text": [
      "C:\\ProgramData\\Miniconda3\\lib\\site-packages\\sklearn\\model_selection\\_search.py:969: UserWarning: One or more of the test scores are non-finite: [nan nan nan nan nan nan nan nan nan nan nan nan]\n",
      "  warnings.warn(\n"
     ]
    },
    {
     "name": "stdout",
     "output_type": "stream",
     "text": [
      "Best score: nan\n",
      "Best parameters set:\n",
      "tclf__max_depth: 5\n",
      "tclf__min_samples_leaf: 1\n",
      "tclf__min_samples_split: 2\n",
      "              precision    recall  f1-score   support\n",
      "\n",
      "      EDIBLE       1.00      1.00      1.00      1137\n",
      "   POISONOUS       1.00      1.00      1.00       967\n",
      "\n",
      "    accuracy                           1.00      2104\n",
      "   macro avg       1.00      1.00      1.00      2104\n",
      "weighted avg       1.00      1.00      1.00      2104\n",
      "\n"
     ]
    }
   ],
   "source": [
    "#Using the decision tree model\n",
    "decision_tree_model_orig, decision_tree_predictions_orig = decision_tree_func(X_train_orig, y_train_orig, X_test_orig, y_test_orig)"
   ]
  },
  {
   "cell_type": "code",
   "execution_count": 216,
   "id": "1d220249",
   "metadata": {},
   "outputs": [
    {
     "name": "stderr",
     "output_type": "stream",
     "text": [
      "C:\\ProgramData\\Miniconda3\\lib\\site-packages\\sklearn\\utils\\deprecation.py:87: FutureWarning: Function plot_confusion_matrix is deprecated; Function `plot_confusion_matrix` is deprecated in 1.0 and will be removed in 1.2. Use one of the class methods: ConfusionMatrixDisplay.from_predictions or ConfusionMatrixDisplay.from_estimator.\n",
      "  warnings.warn(msg, category=FutureWarning)\n"
     ]
    },
    {
     "data": {
      "image/png": "[encoded data removed]",
      "text/plain": [
       "<Figure size 432x288 with 2 Axes>"
      ]
     },
     "metadata": {
      "needs_background": "dark"
     },
     "output_type": "display_data"
    }
   ],
   "source": [
    "eval_confusion(decision_tree_model_orig, X_test_orig, y_test_orig, decision_tree_predictions_orig)"
   ]
  },
  {
   "cell_type": "code",
   "execution_count": 217,
   "id": "f5b93664-04d4-4aa9-9baa-52ca169e51c8",
   "metadata": {},
   "outputs": [
    {
     "name": "stdout",
     "output_type": "stream",
     "text": [
      "Fitting 5 folds for each of 12 candidates, totalling 60 fits\n",
      "Best score: 0.970\n",
      "Best parameters set:\n",
      "tclf__max_depth: 6\n",
      "tclf__min_samples_leaf: 3\n",
      "tclf__min_samples_split: 2\n",
      "              precision    recall  f1-score   support\n",
      "\n",
      "           0       0.95      0.97      0.96      1175\n",
      "           1       0.97      0.95      0.96      1263\n",
      "\n",
      "    accuracy                           0.96      2438\n",
      "   macro avg       0.96      0.96      0.96      2438\n",
      "weighted avg       0.96      0.96      0.96      2438\n",
      "\n"
     ]
    },
    {
     "data": {
      "text/plain": [
       "(GridSearchCV(estimator=Pipeline(steps=[('clf',\n",
       "                                         DecisionTreeClassifier(criterion='entropy'))]),\n",
       "              n_jobs=-1,\n",
       "              param_grid={'clf__max_depth': (5, 6),\n",
       "                          'clf__min_samples_leaf': (1, 2, 3),\n",
       "                          'clf__min_samples_split': (2, 3)},\n",
       "              scoring='f1', verbose=1),\n",
       " array([0, 0, 1, ..., 1, 0, 1], dtype=int64))"
      ]
     },
     "execution_count": 217,
     "metadata": {},
     "output_type": "execute_result"
    }
   ],
   "source": [
    "#Using the decision tree model on clean data\n",
    "decision_tree_func(X_train, y_train, X_test, y_test)"
   ]
  },
  {
   "cell_type": "markdown",
   "id": "74c40962",
   "metadata": {},
   "source": [
    "# Random Forest function"
   ]
  },
  {
   "cell_type": "code",
   "execution_count": 218,
   "id": "ba5296b5",
   "metadata": {},
   "outputs": [],
   "source": [
    "def random_forest_func(X_train, y_train, X_test, y_test):\n",
    "    #Libraries used :\n",
    "    from sklearn.ensemble import RandomForestClassifier\n",
    "    from sklearn.metrics import classification_report\n",
    "    from sklearn.pipeline import Pipeline\n",
    "    from sklearn.model_selection import GridSearchCV\n",
    "\n",
    "    pipeline = Pipeline([\n",
    "        ('clf', RandomForestClassifier(criterion = 'entropy'))\n",
    "    ])\n",
    "\n",
    "    #Limiting the depth of the tree to be used to prevent overfitting.\n",
    "    #While experimenting with decison_tree_procedure(), I have already found that [clf__max_depth': (5, 6)] is optimal for our dataset.\n",
    "    #This remains true for the random forest model as well. 5 is still the optimal depth - gives us no overfitting and no underfitting.\n",
    "    \n",
    "    #With 10 estimators we already get f1 in the range of 0.99 and 1.00. To reduce the computation time, I checked f1 with different enstimators used.\n",
    "    #Having 9 estimators results in f1 = [0.98, 0.99]\n",
    "    #Setting clf__n_estimators to 5 gives an average f1 of 0.97.\n",
    "    #Increasing the the number of estimators to 11 also gave f1 betwee 0.99 and 1.00. However, in this case the 1.00 could be seen more often, compared to the use of 10 estimators.\n",
    "    #Therefore, it is best to use 11 estimators with original data - to not harm the accuracy and reduce computational resourses.\n",
    "    parameters = {\n",
    "        #'clf__max_depth': (3, 4, 5),\n",
    "        'clf__n_estimators': (11, 15, 20),\n",
    "        # 'clf__max_depth': (65, 6),\n",
    "        'clf__max_depth': (6, 7),\n",
    "        'clf__min_samples_split': (2, 3),\n",
    "        'clf__min_samples_leaf': (1, 2, 3)\n",
    "    }\n",
    "\n",
    "    #Creating the machine learning model with decision trees using GridSearchCV\n",
    "    random_forest_model = GridSearchCV(pipeline, parameters, n_jobs=-1, verbose=1, scoring='f1')\n",
    "    random_forest_model.fit(X_train, y_train)\n",
    "    best_parameters = random_forest_model.best_estimator_.get_params()\n",
    "    print('Best score: %0.3f' % random_forest_model.best_score_)\n",
    "    print('Best parameters set:')\n",
    "    for param_name in sorted(parameters.keys()):\n",
    "        print('t%s: %r' % (param_name, best_parameters[param_name]))\n",
    "    random_forest_predictions = random_forest_model.predict(X_test)\n",
    "\n",
    "    #Priting model evaluation based on its f1 score.\n",
    "    print(classification_report(y_test, random_forest_predictions))\n",
    "    return random_forest_model, random_forest_predictions"
   ]
  },
  {
   "cell_type": "code",
   "execution_count": 219,
   "id": "fb3e4c9f",
   "metadata": {},
   "outputs": [
    {
     "name": "stdout",
     "output_type": "stream",
     "text": [
      "Fitting 5 folds for each of 36 candidates, totalling 180 fits\n"
     ]
    },
    {
     "name": "stderr",
     "output_type": "stream",
     "text": [
      "C:\\ProgramData\\Miniconda3\\lib\\site-packages\\sklearn\\model_selection\\_search.py:969: UserWarning: One or more of the test scores are non-finite: [nan nan nan nan nan nan nan nan nan nan nan nan nan nan nan nan nan nan\n",
      " nan nan nan nan nan nan nan nan nan nan nan nan nan nan nan nan nan nan]\n",
      "  warnings.warn(\n"
     ]
    },
    {
     "name": "stdout",
     "output_type": "stream",
     "text": [
      "Best score: nan\n",
      "Best parameters set:\n",
      "tclf__max_depth: 6\n",
      "tclf__min_samples_leaf: 1\n",
      "tclf__min_samples_split: 2\n",
      "tclf__n_estimators: 11\n",
      "              precision    recall  f1-score   support\n",
      "\n",
      "      EDIBLE       0.99      1.00      0.99      1137\n",
      "   POISONOUS       1.00      0.99      0.99       967\n",
      "\n",
      "    accuracy                           0.99      2104\n",
      "   macro avg       0.99      0.99      0.99      2104\n",
      "weighted avg       0.99      0.99      0.99      2104\n",
      "\n"
     ]
    }
   ],
   "source": [
    "#Using the random forest model on original data\n",
    "random_forest_model_orig, random_forest_predictions_orig = random_forest_func(X_train_orig, y_train_orig, X_test_orig, y_test_orig)"
   ]
  },
  {
   "cell_type": "code",
   "execution_count": 220,
   "id": "2618d7a5",
   "metadata": {},
   "outputs": [
    {
     "name": "stderr",
     "output_type": "stream",
     "text": [
      "C:\\ProgramData\\Miniconda3\\lib\\site-packages\\sklearn\\utils\\deprecation.py:87: FutureWarning: Function plot_confusion_matrix is deprecated; Function `plot_confusion_matrix` is deprecated in 1.0 and will be removed in 1.2. Use one of the class methods: ConfusionMatrixDisplay.from_predictions or ConfusionMatrixDisplay.from_estimator.\n",
      "  warnings.warn(msg, category=FutureWarning)\n"
     ]
    },
    {
     "data": {
      "image/png": "[encoded data removed]",
      "text/plain": [
       "<Figure size 432x288 with 2 Axes>"
      ]
     },
     "metadata": {
      "needs_background": "dark"
     },
     "output_type": "display_data"
    }
   ],
   "source": [
    "eval_confusion(random_forest_model_orig, X_test_orig, y_test_orig, random_forest_predictions_orig)"
   ]
  },
  {
   "cell_type": "markdown",
   "id": "05f355f1",
   "metadata": {},
   "source": [
    "#### Random forest on Clean version of the data."
   ]
  },
  {
   "cell_type": "code",
   "execution_count": 221,
   "id": "230f119b",
   "metadata": {},
   "outputs": [
    {
     "name": "stdout",
     "output_type": "stream",
     "text": [
      "Fitting 5 folds for each of 36 candidates, totalling 180 fits\n",
      "Best score: 0.988\n",
      "Best parameters set:\n",
      "tclf__max_depth: 7\n",
      "tclf__min_samples_leaf: 2\n",
      "tclf__min_samples_split: 3\n",
      "tclf__n_estimators: 15\n",
      "              precision    recall  f1-score   support\n",
      "\n",
      "           0       0.99      0.99      0.99      1175\n",
      "           1       0.99      0.99      0.99      1263\n",
      "\n",
      "    accuracy                           0.99      2438\n",
      "   macro avg       0.99      0.99      0.99      2438\n",
      "weighted avg       0.99      0.99      0.99      2438\n",
      "\n"
     ]
    },
    {
     "data": {
      "text/plain": [
       "(GridSearchCV(estimator=Pipeline(steps=[('clf',\n",
       "                                         RandomForestClassifier(criterion='entropy'))]),\n",
       "              n_jobs=-1,\n",
       "              param_grid={'clf__max_depth': (6, 7),\n",
       "                          'clf__min_samples_leaf': (1, 2, 3),\n",
       "                          'clf__min_samples_split': (2, 3),\n",
       "                          'clf__n_estimators': (11, 15, 20)},\n",
       "              scoring='f1', verbose=1),\n",
       " array([0, 0, 1, ..., 1, 0, 1], dtype=int64))"
      ]
     },
     "execution_count": 221,
     "metadata": {},
     "output_type": "execute_result"
    }
   ],
   "source": [
    "#Using the random forest model on clean data\n",
    "random_forest_func(X_train, y_train, X_test, y_test)"
   ]
  },
  {
   "cell_type": "code",
   "execution_count": null,
   "id": "a33b80f1",
   "metadata": {},
   "outputs": [],
   "source": []
  },
  {
   "cell_type": "code",
   "execution_count": null,
   "id": "73152fb3-d680-47d3-ad18-c07382ee038f",
   "metadata": {},
   "outputs": [],
   "source": []
  },
  {
   "cell_type": "code",
   "execution_count": null,
   "id": "765338d9-76af-4bdc-af58-085494ce8b9e",
   "metadata": {},
   "outputs": [],
   "source": []
  },
  {
   "cell_type": "markdown",
   "id": "c16eb4f7-f7aa-44f3-a6fe-9aca27204b26",
   "metadata": {},
   "source": [
    "# Comparisons"
   ]
  },
  {
   "cell_type": "code",
   "execution_count": 253,
   "id": "11cfed0b-8ca8-4876-a034-486f5df87aea",
   "metadata": {},
   "outputs": [
    {
     "name": "stdout",
     "output_type": "stream",
     "text": [
      "[0.9997539975399754, 0.9305767121710626]\n",
      "               0         1\n",
      "labels       knn    logreg\n",
      "scores  0.999754  0.930577\n"
     ]
    },
    {
     "data": {
      "text/plain": [
       "(0.9, 1.0)"
      ]
     },
     "execution_count": 253,
     "metadata": {},
     "output_type": "execute_result"
    },
    {
     "data": {
      "image/png": "[encoded data removed]",
      "text/plain": [
       "<Figure size 432x288 with 1 Axes>"
      ]
     },
     "metadata": {
      "needs_background": "light"
     },
     "output_type": "display_data"
    }
   ],
   "source": [
    "results = [knnBestScore, logregBestScore]\n",
    "print(results)\n",
    "\n",
    "df = pd.DataFrame({'labels':['knn', 'logreg'], 'scores':results})\n",
    "\n",
    "print(df.T)\n",
    "\n",
    "sns.barplot(x = df['labels'], y = df['scores'])\n",
    "plt.ylim((0.9,1.0))"
   ]
  },
  {
   "cell_type": "code",
   "execution_count": null,
   "id": "90e85ee9-8090-40c8-9111-93829d9e6046",
   "metadata": {},
   "outputs": [],
   "source": []
  }
 ],
 "metadata": {
  "kernelspec": {
   "display_name": "Python 3 (ipykernel)",
   "language": "python",
   "name": "python3"
  },
  "language_info": {
   "codemirror_mode": {
    "name": "ipython",
    "version": 3
   },
   "file_extension": ".py",
   "mimetype": "text/x-python",
   "name": "python",
   "nbconvert_exporter": "python",
   "pygments_lexer": "ipython3",
   "version": "3.9.12"
  },
  "vscode": {
   "interpreter": {
    "hash": "a077222d77dfe082b8f1dd562ad70e458ac2ab76993a0b248ab0476e32e9e8dd"
   }
  }
 },
 "nbformat": 4,
 "nbformat_minor": 5
}

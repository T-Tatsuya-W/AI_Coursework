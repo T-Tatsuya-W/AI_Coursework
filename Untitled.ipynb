{
 "cells": [
  {
   "cell_type": "markdown",
   "id": "6c1d26fc",
   "metadata": {},
   "source": [
    "# AI coursework\n",
    "\n",
    "\n",
    "## Used Libraries"
   ]
  },
  {
   "cell_type": "code",
   "execution_count": 1,
   "id": "42432c28",
   "metadata": {},
   "outputs": [],
   "source": [
    "import numpy as np\n",
    "import pandas as pd"
   ]
  },
  {
   "cell_type": "markdown",
   "id": "0bd269c5",
   "metadata": {},
   "source": [
    "Now import the datasets from the CSV files into pandas."
   ]
  },
  {
   "cell_type": "code",
   "execution_count": 32,
   "id": "96959084",
   "metadata": {
    "scrolled": true
   },
   "outputs": [
    {
     "name": "stdout",
     "output_type": "stream",
     "text": [
      "train set :  (32561, 15)\n",
      "train set :  (16280, 15)\n"
     ]
    }
   ],
   "source": [
    "train_data = pd.read_csv('./adult_data.csv')\n",
    "test_data = pd.read_csv('./adult_test.csv')\n",
    "# print(train_data)\n",
    "# print(test_data)\n",
    "print(\"train set : \", train_data.shape)\n",
    "print(\"train set : \", test_data.shape)"
   ]
  },
  {
   "cell_type": "code",
   "execution_count": 33,
   "id": "efc2c227",
   "metadata": {
    "scrolled": true
   },
   "outputs": [
    {
     "name": "stdout",
     "output_type": "stream",
     "text": [
      "train set :  (32561, 15)\n",
      "train set :  (16280, 15)\n"
     ]
    }
   ],
   "source": [
    "train_data.dropna(axis = 0)\n",
    "test_data.dropna(axis = 0)\n",
    "\n",
    "print(\"train set : \", train_data.shape)\n",
    "print(\"train set : \", test_data.shape)"
   ]
  },
  {
   "cell_type": "markdown",
   "id": "ab82bda6",
   "metadata": {},
   "source": [
    "After removing the rows from both sets which had missing values, we can see that the shapes of the datasets have remained the same. So we know for certain that there are no NULL values in the dataset."
   ]
  },
  {
   "cell_type": "code",
   "execution_count": 38,
   "id": "8fdc7003",
   "metadata": {
    "scrolled": true
   },
   "outputs": [
    {
     "name": "stdout",
     "output_type": "stream",
     "text": [
      "age\n",
      "workclass\n",
      "fnlwgt\n",
      "education\n",
      "education-num\n",
      "marital-status\n",
      "occupation\n",
      "relationship\n",
      "race\n",
      "sex\n",
      "capital-gain\n",
      "capital-loss\n",
      "hours-per-week\n",
      "native-country\n",
      "><50k \n"
     ]
    }
   ],
   "source": [
    "for col in train_data.columns:\n",
    "    print(col)"
   ]
  },
  {
   "cell_type": "markdown",
   "id": "6424d075",
   "metadata": {},
   "source": [
    "We wil keep age, education-num, occupation, marital-status, race, sex, hours-per-week, to predict the salary. \n",
    "\n",
    "\n",
    "\n",
    "removing NOT america"
   ]
  },
  {
   "cell_type": "code",
   "execution_count": 42,
   "id": "8c649eee",
   "metadata": {},
   "outputs": [
    {
     "data": {
      "text/plain": [
       " United-States                 29170\n",
       " Mexico                          643\n",
       " ?                               583\n",
       " Philippines                     198\n",
       " Germany                         137\n",
       " Canada                          121\n",
       " Puerto-Rico                     114\n",
       " El-Salvador                     106\n",
       " India                           100\n",
       " Cuba                             95\n",
       " England                          90\n",
       " Jamaica                          81\n",
       " South                            80\n",
       " China                            75\n",
       " Italy                            73\n",
       " Dominican-Republic               70\n",
       " Vietnam                          67\n",
       " Guatemala                        64\n",
       " Japan                            62\n",
       " Poland                           60\n",
       " Columbia                         59\n",
       " Taiwan                           51\n",
       " Haiti                            44\n",
       " Iran                             43\n",
       " Portugal                         37\n",
       " Nicaragua                        34\n",
       " Peru                             31\n",
       " Greece                           29\n",
       " France                           29\n",
       " Ecuador                          28\n",
       " Ireland                          24\n",
       " Hong                             20\n",
       " Trinadad&Tobago                  19\n",
       " Cambodia                         19\n",
       " Laos                             18\n",
       " Thailand                         18\n",
       " Yugoslavia                       16\n",
       " Outlying-US(Guam-USVI-etc)       14\n",
       " Hungary                          13\n",
       " Honduras                         13\n",
       " Scotland                         12\n",
       " Holand-Netherlands                1\n",
       "Name: native-country, dtype: int64"
      ]
     },
     "execution_count": 42,
     "metadata": {},
     "output_type": "execute_result"
    }
   ],
   "source": [
    "train_data[\"native-country\"].value_counts()"
   ]
  }
 ],
 "metadata": {
  "kernelspec": {
   "display_name": "Python 3",
   "language": "python",
   "name": "python3"
  },
  "language_info": {
   "codemirror_mode": {
    "name": "ipython",
    "version": 3
   },
   "file_extension": ".py",
   "mimetype": "text/x-python",
   "name": "python",
   "nbconvert_exporter": "python",
   "pygments_lexer": "ipython3",
   "version": "3.8.8"
  }
 },
 "nbformat": 4,
 "nbformat_minor": 5
}
